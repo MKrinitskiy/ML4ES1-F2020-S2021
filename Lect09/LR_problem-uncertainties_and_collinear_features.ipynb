{
 "cells": [
  {
   "cell_type": "markdown",
   "metadata": {},
   "source": [
    "# Оценка неопределенностей в задачах машинного обучения"
   ]
  },
  {
   "cell_type": "code",
   "execution_count": null,
   "metadata": {},
   "outputs": [],
   "source": []
  },
  {
   "cell_type": "code",
   "execution_count": 3,
   "metadata": {},
   "outputs": [],
   "source": [
    "%matplotlib inline"
   ]
  },
  {
   "cell_type": "code",
   "execution_count": 4,
   "metadata": {},
   "outputs": [],
   "source": [
    "import warnings\n",
    "warnings.filterwarnings('ignore')"
   ]
  },
  {
   "cell_type": "code",
   "execution_count": 5,
   "metadata": {},
   "outputs": [],
   "source": [
    "import pandas as pd"
   ]
  },
  {
   "cell_type": "code",
   "execution_count": 6,
   "metadata": {},
   "outputs": [],
   "source": [
    "import matplotlib.pyplot as plt\n",
    "import numpy as np\n",
    "import pandas as pd\n",
    "from datetime import date\n",
    "import datetime"
   ]
  },
  {
   "cell_type": "code",
   "execution_count": 7,
   "metadata": {},
   "outputs": [],
   "source": [
    "from tqdm import tqdm"
   ]
  },
  {
   "cell_type": "code",
   "execution_count": 8,
   "metadata": {},
   "outputs": [],
   "source": [
    "from sklearn.preprocessing import PolynomialFeatures"
   ]
  },
  {
   "cell_type": "code",
   "execution_count": 8,
   "metadata": {},
   "outputs": [],
   "source": [
    "plt.rcParams['figure.figsize'] = (6,4)\n",
    "plt.rcParams['figure.dpi'] = 300"
   ]
  },
  {
   "cell_type": "code",
   "execution_count": 9,
   "metadata": {},
   "outputs": [],
   "source": [
    "class linear_regression:\n",
    "    def __init__(self):\n",
    "        self.theta = None\n",
    "        pass\n",
    "    \n",
    "    def fit(self, X, y):\n",
    "        assert X.ndim == 2, \"X should be 2-dimensional: (N of objects, n of features)\"\n",
    "        assert ((y.ndim == 2)&(y.shape[1] == 1)), \"y should be 2-dimensional: (N of objects, one column)\"\n",
    "        \n",
    "        # attaching ones as first column-vector - x[:,0]\n",
    "        X_0 = np.ones((X.shape[0], 1), dtype=np.float)\n",
    "        X_matrix = np.concatenate([X_0, X], axis=1)\n",
    "        \n",
    "        # making y_train of shape (N,1)\n",
    "        y_column = np.squeeze(np.asarray(y)).reshape((-1,1))\n",
    "        \n",
    "        m1 = np.dot(X_matrix.T, X_matrix)\n",
    "        m2 = np.linalg.inv(m1)\n",
    "        m3 = np.dot(m2, X_matrix.T)\n",
    "        theta_star = np.dot(m3, y_column)\n",
    "        self.theta = theta_star\n",
    "    \n",
    "    def predict(self, X):\n",
    "        assert X.ndim == 2, \"X should be 2-dimensional: (N of objects, n of features)\"\n",
    "        assert self.theta is not None, \"theta is None. perhaps, fit the model first.\"\n",
    "        \n",
    "        X_0 = np.ones((X.shape[0], 1))\n",
    "        X_matrix = np.concatenate([X_0, X], axis=1)\n",
    "        y_pred = np.dot(X_matrix, self.theta)\n",
    "        return y_pred"
   ]
  },
  {
   "cell_type": "markdown",
   "metadata": {},
   "source": [
    "## здесь будут генерироваться синтетические данные для задачи линейной регрессии\n",
    "Эти данные моделируют линейную зависимость с вектором коэффициентов $\\theta$ и задаваемой матрицей ковариаций для признаков $x^{(1)}$ и $x^{(2)}$:\n",
    "$$\n",
    "\\theta=\\begin{bmatrix}\n",
    "2.33 \\\\\n",
    "0.67 \\\\\n",
    "-1.35\n",
    "\\end{bmatrix}\n",
    "$$\n",
    "\n",
    "По умолчанию (если не задана) матрица ковариаций следующая:\n",
    "$$\n",
    "R=\\begin{bmatrix}\n",
    "1.0 & 2.94\\\\\n",
    "2.94 & 9.0\n",
    "\\end{bmatrix}\n",
    "$$\n",
    "\n",
    "Шум в данных моделируется следующим образом:\n",
    "$$\n",
    "\\epsilon \\sim \\mathcal{N}(0, \\sigma^2)\\\\\n",
    "\\sigma^2 = 1\n",
    "$$"
   ]
  },
  {
   "cell_type": "code",
   "execution_count": 10,
   "metadata": {},
   "outputs": [],
   "source": [
    "theta_true = np.array([[2.33, 0.67, -1.35]])\n",
    "epsilon_var = 1.0\n",
    "default_cov_matrix = np.array([[1.0, 2.94],[2.94, 9.0]])\n",
    "def generate_data(train_sample_size = 10000, test_sample_size = 1000, cov_matrix = default_cov_matrix):\n",
    "    \n",
    "    X = np.random.multivariate_normal([0.0, 0.0], cov_matrix, train_sample_size)\n",
    "    X_test = np.random.multivariate_normal([0.0, 0.0], cov_matrix, test_sample_size)\n",
    "    \n",
    "    Xtrain_extended = np.hstack([np.ones((X.shape[0],1)), X])\n",
    "    y = np.dot(Xtrain_extended, theta_true.T) + np.random.randn(Xtrain_extended.shape[0],1)*np.sqrt(epsilon_var)\n",
    "    \n",
    "    Xtest_extended = np.hstack([np.ones((X_test.shape[0],1)), X_test])\n",
    "    y_test = np.dot(Xtest_extended, theta_true.T) + np.random.randn(Xtest_extended.shape[0],1)*np.sqrt(epsilon_var)\n",
    "    \n",
    "    return X,y,X_test,y_test"
   ]
  },
  {
   "cell_type": "code",
   "execution_count": null,
   "metadata": {},
   "outputs": [],
   "source": []
  },
  {
   "cell_type": "markdown",
   "metadata": {},
   "source": [
    "### сгенерируем данные и проанализируем их\n",
    "\n",
    "представим, что мы не знаем, что за закономерность генерирует данные"
   ]
  },
  {
   "cell_type": "code",
   "execution_count": 11,
   "metadata": {},
   "outputs": [],
   "source": [
    "X,y,X_test,y_test = generate_data()"
   ]
  },
  {
   "cell_type": "code",
   "execution_count": 12,
   "metadata": {},
   "outputs": [
    {
     "data": {
      "text/plain": [
       "array([[1.        , 0.98005496],\n",
       "       [0.98005496, 1.        ]])"
      ]
     },
     "execution_count": 12,
     "metadata": {},
     "output_type": "execute_result"
    }
   ],
   "source": [
    "np.corrcoef(X.T)"
   ]
  },
  {
   "cell_type": "code",
   "execution_count": 13,
   "metadata": {
    "scrolled": false
   },
   "outputs": [
    {
     "data": {
      "image/png": "[encoded data removed]",
      "text/plain": [
       "<Figure size 1800x1200 with 1 Axes>"
      ]
     },
     "metadata": {
      "needs_background": "light"
     },
     "output_type": "display_data"
    }
   ],
   "source": [
    "plt.scatter(X[:,0], X[:,1],s=0.1)\n",
    "plt.xlabel('$x^{(0)}$')\n",
    "plt.ylabel('$x^{(1)}$')\n",
    "_ = plt.axis('equal')"
   ]
  },
  {
   "cell_type": "code",
   "execution_count": null,
   "metadata": {},
   "outputs": [],
   "source": []
  },
  {
   "cell_type": "code",
   "execution_count": 14,
   "metadata": {},
   "outputs": [],
   "source": [
    "lr = linear_regression()"
   ]
  },
  {
   "cell_type": "code",
   "execution_count": 15,
   "metadata": {},
   "outputs": [],
   "source": [
    "lr.fit(X,y)"
   ]
  },
  {
   "cell_type": "code",
   "execution_count": 16,
   "metadata": {},
   "outputs": [
    {
     "data": {
      "text/plain": [
       "array([[ 2.33704299],\n",
       "       [ 0.6131716 ],\n",
       "       [-1.3322861 ]])"
      ]
     },
     "execution_count": 16,
     "metadata": {},
     "output_type": "execute_result"
    }
   ],
   "source": [
    "lr.theta"
   ]
  },
  {
   "cell_type": "code",
   "execution_count": 17,
   "metadata": {},
   "outputs": [
    {
     "data": {
      "text/plain": [
       "array([[ 2.33,  0.67, -1.35]])"
      ]
     },
     "execution_count": 17,
     "metadata": {},
     "output_type": "execute_result"
    }
   ],
   "source": [
    "theta_true"
   ]
  },
  {
   "cell_type": "code",
   "execution_count": null,
   "metadata": {},
   "outputs": [],
   "source": []
  },
  {
   "cell_type": "code",
   "execution_count": null,
   "metadata": {},
   "outputs": [],
   "source": []
  },
  {
   "cell_type": "markdown",
   "metadata": {},
   "source": [
    "## оценим качество \"финальной\" модели на тестовой выборке"
   ]
  },
  {
   "cell_type": "code",
   "execution_count": 18,
   "metadata": {},
   "outputs": [],
   "source": [
    "y_pred = lr.predict(X_test)"
   ]
  },
  {
   "cell_type": "code",
   "execution_count": 19,
   "metadata": {},
   "outputs": [
    {
     "data": {
      "text/plain": [
       "1.0314411370944507"
      ]
     },
     "execution_count": 19,
     "metadata": {},
     "output_type": "execute_result"
    }
   ],
   "source": [
    "np.std((y_pred-y_test))"
   ]
  },
  {
   "cell_type": "code",
   "execution_count": 20,
   "metadata": {},
   "outputs": [
    {
     "data": {
      "image/png": "[encoded data removed]",
      "text/plain": [
       "<Figure size 1800x1200 with 1 Axes>"
      ]
     },
     "metadata": {
      "needs_background": "light"
     },
     "output_type": "display_data"
    }
   ],
   "source": [
    "_ = plt.hist((y_pred-y_test), bins=100)\n",
    "_ = plt.xlabel('error of the model')"
   ]
  },
  {
   "cell_type": "markdown",
   "metadata": {},
   "source": [
    "## !!!\n",
    "Эта оценка стандартного отклонения не обязательно говорит о том, плохая модель или хорошая модель. Сравните это стандартное отклонение со значением $\\sigma$, которым моделируется шум в данных при генерации.\n",
    "\n",
    "В реальных задачах мы, конечно, не знаем параметров шума. Но сейчас - знаем.\n",
    "\n",
    "На этом синтетическом примере можно понять, что оценка качества, полученная на тестовой выборке, может ввести в заблуждение относительно реального качества модели."
   ]
  },
  {
   "cell_type": "code",
   "execution_count": null,
   "metadata": {},
   "outputs": [],
   "source": []
  },
  {
   "cell_type": "code",
   "execution_count": null,
   "metadata": {},
   "outputs": [],
   "source": []
  },
  {
   "cell_type": "markdown",
   "metadata": {},
   "source": [
    "# Виды неопределенности аппроксимированой целевой переменной\n",
    "### Алеаторическая неопределенность\n",
    "Алеаторическая - неопределенность, наследуемая из неопределенности в данных. В рассматриваемой модели линейной регрессии алеаторической неопределенности соответствует ошибка, наследуемая от шума $\\epsilon \\sim \\mathcal{N}(0, \\sigma^2)$<br />\n",
    "Алеаторическую неопределенность **невозможно снизить**. Это базовое свойство той закономерности, которая порождает данные. Можно рассматривать другую закономерность (другую постановку задачи, другой дизайн эксперимента). Но это будет уже другая задача, другая история.\n",
    "\n",
    "### Эпистемическая неопределенность\n",
    "Эпистемическая - неопределенность, обусловленная недостаточносностью знаний, сведений, способностей модели, etc. В рассматриваемой модели линейной регрессии эпистемической соответствует неопределенность, обусловленная чувствительностью модели к выбросам, надостаточной выразительностью модели, недостаточной обобщающей способностью модели, плохим балансом между обобщающей способностью и выразительностью модели, малым количеством данных.\n",
    "Эпистемическую неопределенность можно и нужно снижать. Среди путей снижения эпистемической неопределенности в задаче регрессии:\n",
    "\n",
    "- Увеличение выборки (data mining);\n",
    "- Фильтрация выбросов в данных (предобработка данных);\n",
    "- Отбор вида модели: выбор модели, менее чувствительной к выбросам в данных, обладающей лучшей обобщающей способностью, обладающей лучшей выразительностью; правильный подбор гиперпараметров, отвечающих за баланс между обобщающей способностью и выразительностью модели;"
   ]
  },
  {
   "cell_type": "code",
   "execution_count": null,
   "metadata": {},
   "outputs": [],
   "source": []
  },
  {
   "cell_type": "markdown",
   "metadata": {},
   "source": [
    "### Помимо оценка качества \"финальной\" модели обязательно нужно оценивать эпистемическую неопределенность\n",
    "Именно эта неопределенность характеризует, насколько хорошо подходит эта модель для описания имеющихся данных.\n",
    "\n",
    "Ошибка (качество) модели - оценивается на тестовой выборке. В оценке ошибки модели заложены оба типа неопределенности. Оценка качества модели по какой-то мере качества (например, MSE) - это оценка ошибки **одного** варианта модели, оптимизированного на **конкретной** тренировочной выборке.\n",
    "\n",
    "**Идеальная модель** имеет ошибку, совпадающую с алеаторичской неопределенностью (шумом в данных, $\\epsilon$).\n",
    "\n",
    "<b>НО!!!</b><br />\n",
    "В настоящий момент НЕТ простого способа разделить алеаторическую и эпистемическую неопределенности.<br />\n",
    "Способы разделения этих неопределенностей - открытая область исследований. Наиболее продвинутые результаты получены с применением байесовских подходов (не рассматриваются в этом курсе)"
   ]
  },
  {
   "cell_type": "markdown",
   "metadata": {},
   "source": [
    "Оценивать неопределенности модели будем с применением подхода **bootstrap**"
   ]
  },
  {
   "cell_type": "markdown",
   "metadata": {},
   "source": [
    "## Bootstrap (бутстрэп, бутстреп)\n",
    "\n",
    "**Bootstrap** - метод сэмплирования из выборки, предоставляющий возможность оценивать статистики на сокращенной выборке.\n",
    "\n",
    "**Bootstrap** - метод сэмплирования с возвратом:\n",
    "\n",
    "1. Определиться с размером bootstrap-выборки $N_b$\n",
    "2. Повторять до тех пор, пока размер bootstrap-выборки не достигнет $N_b$:\n",
    "    - Выбрать произвольный элемент исходной выборки, \"вернуть\" его на место.\n",
    "    - Добавить выбранный элемент в bootstrap-выборку."
   ]
  },
  {
   "cell_type": "raw",
   "metadata": {},
   "source": []
  },
  {
   "cell_type": "markdown",
   "metadata": {},
   "source": [
    "## Оценка качества модели с применением подхода Bootstrap\n",
    "1. Определиться с размером bootstrap-выборки $N_b$\n",
    "2. Определиться с количеством bootstrap-выборок $B$\n",
    "3. Для каждой bootstrap-выборки:<br />\n",
    "    a. Получить bootstrap-выборку. Оставшиеся события - т.н. out-of-bag выборка (OOB)<br />\n",
    "    b. Оптимизировать модель на этой выборке как на тренировочной<br />\n",
    "    c. Оценить качество модели по выбранной мере качества на OOB-выборке.<br />\n",
    "4. Оценить качество модели как среднее оценок, получаемых в п.**3.c.**"
   ]
  },
  {
   "cell_type": "markdown",
   "metadata": {},
   "source": [
    "Получаемая таким образом оценка ошибки включает алеаторическую и эпистемическую неопределенности."
   ]
  },
  {
   "cell_type": "raw",
   "metadata": {},
   "source": []
  },
  {
   "cell_type": "markdown",
   "metadata": {},
   "source": [
    "## Оценка значений и неопределенностей параметров модели с применением подхода Bootstrap\n",
    "1. Определиться с размером bootstrap-выборки $N_b$\n",
    "2. Определиться с количеством bootstrap-выборок $B$\n",
    "3. Для каждой bootstrap-выборки:<br />\n",
    "    a. Получить bootstrap-выборку.<br />\n",
    "    b. Оптимизировать модель на этой выборке как на тренировочной, записать полученные параметры.<br />\n",
    "4. Оценить значения параметров модели как выборочную оценку среднего для параметров, получаемых в п.**3.b.**\n",
    "5. Оценить неопределенность параметров модели как выборочную оценку стандартного отклонения параметров, получаемых в п.**3.b.**"
   ]
  },
  {
   "cell_type": "raw",
   "metadata": {},
   "source": []
  },
  {
   "cell_type": "markdown",
   "metadata": {},
   "source": [
    "## Оценка неопределенности вывода модели с применением подхода Bootstrap\n",
    "1. Определиться с размером bootstrap-выборки $N_b$\n",
    "2. Определиться с количеством bootstrap-выборок $B$\n",
    "3. Для каждой bootstrap-выборки:<br />\n",
    "    a. Получить bootstrap-выборку<br />\n",
    "    b. Оптимизировать модель на этой выборке как на тренировочной. Записать значения параметров.<br />\n",
    "4. На новых элементах, к которым следует применить модель, оценивать эпистемическую неопределенность модели следующим образом:\n",
    "    a. Применить модель в новому объекту с каждым из наборов параметров модели, полученных на этапе **3.b**. ВНИМАНИЕ! Эти значения - аппроксимация целевой переменной **без учета шума $\\epsilon$**. То есть, это оценка среднего значения $y_i = \\theta\\bar{x_i}$ <br/>\n",
    "    b. Если есть обоснованные предположения относительно параметров распределения шума $\\epsilon$ - к каждому значению полученного среднего следует добавить шум.\n",
    "    b. Оценить неопределенность полученных значений как выборочную оценку стандартного отклонения."
   ]
  },
  {
   "cell_type": "markdown",
   "metadata": {},
   "source": [
    "### ВАЖНО\n",
    "Это НЕ эпистемическая неопределенность (см. выше - надежного способа разделить алеаторическую и эпистемическую у нас сейчас нет). Но как минимум это наша наилучшая попытка ее оценить."
   ]
  },
  {
   "cell_type": "raw",
   "metadata": {},
   "source": []
  },
  {
   "cell_type": "markdown",
   "metadata": {},
   "source": [
    "## Оценка доверительных интервалов с применением подхода Bootstrap\n",
    "Здесь приводится схема оценки доверительного интервала для статистик на OOB-выборке и для аппроксимированных значений целевой переменной.\n",
    "- В случае, если нужно оценивать доверительный интервал аппроксимации целевой переменной с уровнем доверия p (например 0.95), оценка производится аналогично оценке неопределенности вывода модели (см. выше). Вместо выборочной оценки стандартного отклонения оцениваются эмпирические квантили (в приведенном примере - 0.025 и 0.975).\n",
    "\n",
    "\n",
    "- В случае, если нужно оценивать доверительный интервал какой-то статистики, отражающей качество модели (например, MSE), поступают следующим образом:\n",
    "\n",
    "\n",
    "1. Определиться с размером bootstrap-выборки $N_b$\n",
    "2. Определиться с количеством bootstrap-выборок $B$\n",
    "3. Для каждой bootstrap-выборки:<br />\n",
    "    a. Получить bootstrap-выборку, получить OOB-выборку<br />\n",
    "    b. Оптимизировать модель на этой выборке как на тренировочной. Оценить MSE на OOB-выборке, записать это значение.<br />\n",
    "4. По набору значений MSE (количеством $B$) оценивается выборочное среднее, которое принимается за среднюю оценку качества модели по этой метрике (см. выше - \"Оценка качества модели с применением подхода Bootstrap\")\n",
    "5. По набору значений MSE (количеством $B$) оцениваются эмпирические квантили (в приведенном примере при уровне доверия 0.95 - квантили 0.025 и 0.975), которые считаются границами доверительного интервала для MSE."
   ]
  },
  {
   "cell_type": "markdown",
   "metadata": {},
   "source": [
    "### ВАЖНО\n",
    "Как и в случае с неопределенностью, оцениваемой как стандартное отклонение, - этот доверительный интервал не характеризует эпистемическую неопределенность модели. Но на настоящий момент это наша лучшая попытка ее оценить."
   ]
  },
  {
   "cell_type": "code",
   "execution_count": null,
   "metadata": {},
   "outputs": [],
   "source": []
  },
  {
   "cell_type": "markdown",
   "metadata": {},
   "source": [
    "#### функции, которые могут быть полезны при реализации bootstrap:\n",
    "[numpy.random.randint](https://docs.scipy.org/doc/numpy-1.15.0/reference/generated/numpy.random.randint.html)<br />\n",
    "[numpy.random.choice](https://docs.scipy.org/doc/numpy-1.15.0/reference/generated/numpy.random.choice.html#numpy.random.choice)"
   ]
  },
  {
   "cell_type": "markdown",
   "metadata": {},
   "source": [
    "## --- Задание\n",
    "реализовать функцию bootstrap-сэмплирования"
   ]
  },
  {
   "cell_type": "code",
   "execution_count": 21,
   "metadata": {},
   "outputs": [],
   "source": [
    "def sample_bootstrap(X, y, sample_size, return_OOB_sample = False):\n",
    "    # Эта функция должна возвращать bootstrap-выборку для X и y размером sample_size\n",
    "    # X - массив, содержащий признаковое описание объектов выборки\n",
    "    # y - массив значений целевой переменной\n",
    "    # sample_size - запрашиваемый размер bootstrap-выборки\n",
    "    # return_OOB_sample - флаг, регулирующий необходимость возврата в том числе и OOB-выборки\n",
    "    \n",
    "    X_bootstrap, y_bootstrap, X_OOB, y_OOB = None,None,None,None\n",
    "    \n",
    "    # здесь - ваш код генерации bootstrap-выборки и OOB-выборки\n",
    "    \n",
    "    return X_bootstrap, y_bootstrap, X_OOB, y_OOB"
   ]
  },
  {
   "cell_type": "code",
   "execution_count": null,
   "metadata": {},
   "outputs": [],
   "source": []
  },
  {
   "cell_type": "markdown",
   "metadata": {},
   "source": [
    "## Оценка неопределенности параметров модели"
   ]
  },
  {
   "cell_type": "code",
   "execution_count": 21,
   "metadata": {},
   "outputs": [],
   "source": [
    "B = 1000"
   ]
  },
  {
   "cell_type": "markdown",
   "metadata": {},
   "source": [
    "## --- Задание\n",
    "используя приведенный код как шаблон, реализовать оценку неопределенности параметров модели при размере bootstrap-выборки равном 10"
   ]
  },
  {
   "cell_type": "code",
   "execution_count": 24,
   "metadata": {},
   "outputs": [
    {
     "name": "stderr",
     "output_type": "stream",
     "text": [
      "100%|██████████| 1000/1000 [00:00<00:00, 11849.92it/s]\n"
     ]
    }
   ],
   "source": [
    "sample_size = 10\n",
    "\n",
    "theta_values_curr_sample_size = []\n",
    "for i in tqdm(range(B), total=B):\n",
    "    ## --- Задание\n",
    "используя приведенный код как шаблон, реализовать оценку неопределенности параметров модели при размере bootstrap-выборки равном 1000"
   ]
  },
  {
   "cell_type": "code",
   "execution_count": 25,
   "metadata": {},
   "outputs": [
    {
     "data": {
      "text/plain": [
       "(1000, 3)"
      ]
     },
     "execution_count": 25,
     "metadata": {},
     "output_type": "execute_result"
    }
   ],
   "source": [
    "theta_values_curr_sample_size = np.concatenate([t.T for t in theta_values_curr_sample_size], axis=0)\n",
    "theta_values_curr_sample_size.shape"
   ]
  },
  {
   "cell_type": "code",
   "execution_count": null,
   "metadata": {},
   "outputs": [],
   "source": [
    "f = plt.figure(figsize=(6,6), dpi=300)\n",
    "for i in range(3):\n",
    "    _ = plt.subplot(2,2, i+1)\n",
    "    h_counts,h_bins,_ = plt.hist(theta_values_curr_sample_size[:,i], bins=30, color='white', ec=\"black\", linewidth=0.5)\n",
    "    _ = plt.title(\"$\\\\theta_%d$\" % i)\n",
    "    mean_theta_i = np.mean(theta_values_curr_sample_size[:,i])\n",
    "    std_theta_i = np.std(theta_values_curr_sample_size[:,i])\n",
    "    _ = plt.vlines(mean_theta_i, 0, h_counts.max(), color='magenta')\n",
    "    _ = plt.vlines(theta_true[0,i], 0, h_counts.max(), color='green')\n",
    "    _ = plt.text(mean_theta_i+std_theta_i/10, 3*h_counts.max()/4, '$mean(\\\\theta_%d) = %.3f$' % (i, mean_theta_i), fontsize=8, weight='bold')\n",
    "    _ = plt.text(mean_theta_i+std_theta_i/10, 2*h_counts.max()/4, '$std(\\\\theta_%d) = %.3f$' % (i, std_theta_i), fontsize=8, weight='bold')\n",
    "    _ = plt.text(mean_theta_i+std_theta_i/10, 1*h_counts.max()/4, '$(\\\\theta_%d)\\_true = %.3f$' % (i, theta_true[0,i]), fontsize=8, color='green', weight='bold')\n",
    "_ = plt.tight_layout()"
   ]
  },
  {
   "cell_type": "code",
   "execution_count": null,
   "metadata": {},
   "outputs": [],
   "source": []
  },
  {
   "cell_type": "markdown",
   "metadata": {},
   "source": [
    "## --- Задание\n",
    "используя приведенный код как шаблон, реализовать оценку неопределенности параметров модели при размере bootstrap-выборки равном 100"
   ]
  },
  {
   "cell_type": "code",
   "execution_count": 27,
   "metadata": {},
   "outputs": [
    {
     "name": "stderr",
     "output_type": "stream",
     "text": [
      "100%|██████████| 1000/1000 [00:00<00:00, 10540.94it/s]\n"
     ]
    }
   ],
   "source": [
    "sample_size = 100\n",
    "\n",
    "theta_values_curr_sample_size = []\n",
    "for i in tqdm(range(B), total=B):\n",
    "    lr = linear_regression()\n",
    "    \n",
    "    # Реализовать bootstrap-сэмплирование и оценку параметров модели для B bootstrap-выборок\n",
    "    \n",
    "    theta_values_curr_sample_size.append(np.copy(lr.theta))"
   ]
  },
  {
   "cell_type": "code",
   "execution_count": 28,
   "metadata": {},
   "outputs": [
    {
     "data": {
      "text/plain": [
       "(1000, 3)"
      ]
     },
     "execution_count": 28,
     "metadata": {},
     "output_type": "execute_result"
    }
   ],
   "source": [
    "theta_values_curr_sample_size = np.concatenate([t.T for t in theta_values_curr_sample_size], axis=0)\n",
    "theta_values_curr_sample_size.shape"
   ]
  },
  {
   "cell_type": "code",
   "execution_count": null,
   "metadata": {},
   "outputs": [],
   "source": [
    "f = plt.figure(figsize=(6,6), dpi=300)\n",
    "for i in range(3):\n",
    "    _ = plt.subplot(2,2, i+1)\n",
    "    h_counts,h_bins,_ = plt.hist(theta_values_curr_sample_size[:,i], bins=30, color='white', ec=\"black\", linewidth=0.5)\n",
    "    _ = plt.title(\"$\\\\theta_%d$\" % i)\n",
    "    mean_theta_i = np.mean(theta_values_curr_sample_size[:,i])\n",
    "    std_theta_i = np.std(theta_values_curr_sample_size[:,i])\n",
    "    _ = plt.vlines(mean_theta_i, 0, h_counts.max(), color='magenta')\n",
    "    _ = plt.vlines(theta_true[0,i], 0, h_counts.max(), color='green')\n",
    "    _ = plt.text(mean_theta_i+std_theta_i/10, 3*h_counts.max()/4, '$mean(\\\\theta_%d) = %.3f$' % (i, mean_theta_i), fontsize=8, weight='bold')\n",
    "    _ = plt.text(mean_theta_i+std_theta_i/10, 2*h_counts.max()/4, '$std(\\\\theta_%d) = %.3f$' % (i, std_theta_i), fontsize=8, weight='bold')\n",
    "    _ = plt.text(mean_theta_i+std_theta_i/10, 1*h_counts.max()/4, '$(\\\\theta_%d)\\_true = %.3f$' % (i, theta_true[0,i]), fontsize=8, color='green', weight='bold')\n",
    "_ = plt.tight_layout()"
   ]
  },
  {
   "cell_type": "code",
   "execution_count": null,
   "metadata": {},
   "outputs": [],
   "source": []
  },
  {
   "cell_type": "markdown",
   "metadata": {},
   "source": [
    "## --- Задание\n",
    "используя приведенный код как шаблон, реализовать оценку неопределенности параметров модели при размере bootstrap-выборки равном 1000"
   ]
  },
  {
   "cell_type": "code",
   "execution_count": 30,
   "metadata": {},
   "outputs": [
    {
     "name": "stderr",
     "output_type": "stream",
     "text": [
      "100%|██████████| 1000/1000 [00:00<00:00, 5393.36it/s]\n"
     ]
    }
   ],
   "source": [
    "sample_size = 1000\n",
    "\n",
    "theta_values_curr_sample_size = []\n",
    "for i in tqdm(range(B), total=B):\n",
    "    lr = linear_regression()\n",
    "    \n",
    "    # Реализовать bootstrap-сэмплирование и оценку параметров модели для B bootstrap-выборок\n",
    "    \n",
    "    theta_values_curr_sample_size.append(np.copy(lr.theta))"
   ]
  },
  {
   "cell_type": "code",
   "execution_count": 31,
   "metadata": {},
   "outputs": [
    {
     "data": {
      "text/plain": [
       "(1000, 3)"
      ]
     },
     "execution_count": 31,
     "metadata": {},
     "output_type": "execute_result"
    }
   ],
   "source": [
    "theta_values_curr_sample_size = np.concatenate([t.T for t in theta_values_curr_sample_size], axis=0)\n",
    "theta_values_curr_sample_size.shape"
   ]
  },
  {
   "cell_type": "code",
   "execution_count": null,
   "metadata": {},
   "outputs": [],
   "source": [
    "f = plt.figure(figsize=(6,6), dpi=300)\n",
    "for i in range(3):\n",
    "    _ = plt.subplot(2,2, i+1)\n",
    "    h_counts,h_bins,_ = plt.hist(theta_values_curr_sample_size[:,i], bins=30, color='white', ec=\"black\", linewidth=0.5)\n",
    "    _ = plt.title(\"$\\\\theta_%d$\" % i)\n",
    "    mean_theta_i = np.mean(theta_values_curr_sample_size[:,i])\n",
    "    std_theta_i = np.std(theta_values_curr_sample_size[:,i])\n",
    "    _ = plt.vlines(mean_theta_i, 0, h_counts.max(), color='magenta')\n",
    "    _ = plt.vlines(theta_true[0,i], 0, h_counts.max(), color='green')\n",
    "    _ = plt.text(mean_theta_i+std_theta_i/10, 3*h_counts.max()/4, '$mean(\\\\theta_%d) = %.3f$' % (i, mean_theta_i), fontsize=8, weight='bold')\n",
    "    _ = plt.text(mean_theta_i+std_theta_i/10, 2*h_counts.max()/4, '$std(\\\\theta_%d) = %.3f$' % (i, std_theta_i), fontsize=8, weight='bold')\n",
    "    _ = plt.text(mean_theta_i+std_theta_i/10, 1*h_counts.max()/4, '$(\\\\theta_%d)\\_true = %.3f$' % (i, theta_true[0,i]), fontsize=8, color='green', weight='bold')\n",
    "_ = plt.tight_layout()"
   ]
  },
  {
   "cell_type": "code",
   "execution_count": null,
   "metadata": {},
   "outputs": [],
   "source": []
  },
  {
   "cell_type": "markdown",
   "metadata": {},
   "source": [
    "## неопределенность параметров в зависимости от размера bootstrap-выборки"
   ]
  },
  {
   "cell_type": "code",
   "execution_count": 9,
   "metadata": {},
   "outputs": [
    {
     "data": {
      "text/plain": [
       "[4, 8, 16, 32, 64, 128, 256, 512, 1024, 2048, 4096, 8192]"
      ]
     },
     "execution_count": 9,
     "metadata": {},
     "output_type": "execute_result"
    }
   ],
   "source": [
    "sample_sizes = [2**i for i in range(2, 14)]\n",
    "sample_sizes"
   ]
  },
  {
   "cell_type": "markdown",
   "metadata": {},
   "source": [
    "## --- Задание\n",
    "используя приведенный код как шаблон, реализовать оценку неопределенности параметров модели при различном размере bootstrap-выборки"
   ]
  },
  {
   "cell_type": "code",
   "execution_count": 33,
   "metadata": {},
   "outputs": [
    {
     "name": "stderr",
     "output_type": "stream",
     "text": [
      "100%|██████████| 1000/1000 [00:00<00:00, 14074.47it/s]\n",
      "100%|██████████| 1000/1000 [00:00<00:00, 15375.75it/s]\n",
      "100%|██████████| 1000/1000 [00:00<00:00, 17384.92it/s]\n",
      "100%|██████████| 1000/1000 [00:00<00:00, 16936.21it/s]\n",
      "100%|██████████| 1000/1000 [00:00<00:00, 16266.39it/s]\n",
      "100%|██████████| 1000/1000 [00:00<00:00, 15026.88it/s]\n",
      "100%|██████████| 1000/1000 [00:00<00:00, 13174.97it/s]\n",
      "100%|██████████| 1000/1000 [00:00<00:00, 10751.62it/s]\n",
      "100%|██████████| 1000/1000 [00:00<00:00, 7886.08it/s]\n",
      "100%|██████████| 1000/1000 [00:00<00:00, 5239.11it/s]\n",
      "100%|██████████| 1000/1000 [00:00<00:00, 3168.28it/s]\n",
      "100%|██████████| 1000/1000 [00:00<00:00, 1795.61it/s]\n"
     ]
    }
   ],
   "source": [
    "theta_values_per_sample_size = []\n",
    "for sample_size in sample_sizes:\n",
    "    theta_values_curr_sample_size = []\n",
    "    for i in tqdm(range(B), total=B):\n",
    "        lr = linear_regression()\n",
    "    \n",
    "        # Реализовать bootstrap-сэмплирование и оценку параметров модели для B bootstrap-выборок\n",
    "\n",
    "        theta_values_curr_sample_size.append(np.copy(lr.theta))\n",
    "    \n",
    "    theta_values_curr_sample_size = np.concatenate([t.T for t in theta_values_curr_sample_size], axis=0)\n",
    "    theta_values_per_sample_size.append({'sample_size': sample_size, 'theta_values': theta_values_curr_sample_size})"
   ]
  },
  {
   "cell_type": "code",
   "execution_count": null,
   "metadata": {},
   "outputs": [],
   "source": [
    "f = plt.figure(figsize=(6,6), dpi=300)\n",
    "for i in range(3):\n",
    "    _ = plt.subplot(2,2,i+1)\n",
    "    _ = plt.plot([t['sample_size'] for t in theta_values_per_sample_size],\n",
    "                 [np.std(t['theta_values'][:,0]) for t in theta_values_per_sample_size],\n",
    "                 label='$std(\\\\theta_%d)$' % i)\n",
    "    _ = plt.ylabel('$std(\\\\theta_%d)$' % i)\n",
    "    _ = plt.xlabel('sample size')\n",
    "    _ = plt.title('$std(\\\\theta_%d)$' % i)\n",
    "plt.tight_layout()"
   ]
  },
  {
   "cell_type": "markdown",
   "metadata": {},
   "source": [
    "## ВЫВОДЫ?"
   ]
  },
  {
   "cell_type": "code",
   "execution_count": null,
   "metadata": {},
   "outputs": [],
   "source": []
  },
  {
   "cell_type": "code",
   "execution_count": null,
   "metadata": {},
   "outputs": [],
   "source": []
  },
  {
   "cell_type": "code",
   "execution_count": null,
   "metadata": {},
   "outputs": [],
   "source": []
  },
  {
   "cell_type": "markdown",
   "metadata": {},
   "source": [
    "## Отступление на тему коррелирующих признаков (в линейных моделях)\n",
    "Оценим неопределенность параметров в зависимости от коэффициента корреляции между признаками"
   ]
  },
  {
   "cell_type": "code",
   "execution_count": 10,
   "metadata": {},
   "outputs": [
    {
     "data": {
      "text/plain": [
       "array([0.        , 0.34827199, 0.4419238 , 0.49831648, 0.53879494,\n",
       "       0.57039205, 0.59631238, 0.61828838, 0.63736345, 0.6542149 ,\n",
       "       0.66930747, 0.68297385, 0.69546048, 0.70695495, 0.71760339,\n",
       "       0.72752184, 0.73680401, 0.74552664, 0.75375335, 0.76153754,\n",
       "       0.76892437, 0.77595246, 0.78265504, 0.78906094, 0.79519531,\n",
       "       0.80108023, 0.80673521, 0.81217753, 0.81742262, 0.82248427,\n",
       "       0.82737488, 0.83210563, 0.83668665, 0.84112712, 0.8454354 ,\n",
       "       0.84961915, 0.85368536, 0.85764046, 0.86149035, 0.86524049,\n",
       "       0.86889591, 0.87246129, 0.87594096, 0.87933893, 0.88265896,\n",
       "       0.88590454, 0.88907893, 0.89218521, 0.89522621, 0.89820464,\n",
       "       0.90112302, 0.90398371, 0.90678896, 0.90954088, 0.91224145,\n",
       "       0.91489255, 0.91749597, 0.92005339, 0.92256641, 0.92503654,\n",
       "       0.92746522, 0.92985382, 0.93220365, 0.93451593, 0.93679186,\n",
       "       0.93903255, 0.94123909, 0.94341249, 0.94555374, 0.94766377,\n",
       "       0.94974349, 0.95179375, 0.95381537, 0.95580914, 0.95777582,\n",
       "       0.95971614, 0.9616308 , 0.96352045, 0.96538576, 0.96722733,\n",
       "       0.96904576, 0.97084163, 0.9726155 , 0.97436789, 0.97609931,\n",
       "       0.97781027, 0.97950124, 0.98117268, 0.98282505, 0.98445876,\n",
       "       0.98607424, 0.98767188, 0.98925209, 0.99081523, 0.99236167,\n",
       "       0.99389176, 0.99540584, 0.99690425, 0.99838731, 0.99985533])"
      ]
     },
     "execution_count": 10,
     "metadata": {},
     "output_type": "execute_result"
    }
   ],
   "source": [
    "corr_coeffs = np.log(np.linspace(1.0, 1000.0, 100))/np.log(1001.0)\n",
    "corr_coeffs"
   ]
  },
  {
   "cell_type": "code",
   "execution_count": 36,
   "metadata": {},
   "outputs": [
    {
     "data": {
      "text/plain": [
       "<matplotlib.collections.PathCollection at 0x7f53cb3832b0>"
      ]
     },
     "execution_count": 36,
     "metadata": {},
     "output_type": "execute_result"
    },
    {
     "data": {
      "image/png": "[encoded data removed]",
      "text/plain": [
       "<Figure size 1800x1200 with 1 Axes>"
      ]
     },
     "metadata": {
      "needs_background": "light"
     },
     "output_type": "display_data"
    }
   ],
   "source": [
    "plt.scatter(np.arange(len(corr_coeffs)), corr_coeffs, s=1)"
   ]
  },
  {
   "cell_type": "markdown",
   "metadata": {},
   "source": [
    "- Сгенерируем события, описываемых признаками $x^{(1)}$ и $x^{(2)}$ с такими ↑ корреляциями\n",
    "- Оценим параметры линейной регрессии, оценим их дисперсию с применением подхода bootstrap"
   ]
  },
  {
   "cell_type": "markdown",
   "metadata": {},
   "source": [
    "## --- Задание\n",
    "используя приведенный код как шаблон, реализовать оценку неопределенности параметров модели для данных, описываемых признаками с различными коэффициентами корреляции."
   ]
  },
  {
   "cell_type": "code",
   "execution_count": 37,
   "metadata": {
    "scrolled": true
   },
   "outputs": [
    {
     "name": "stderr",
     "output_type": "stream",
     "text": [
      "100%|██████████| 100/100 [00:15<00:00,  6.88it/s]\n"
     ]
    }
   ],
   "source": [
    "theta_values_per_corr_coef = []\n",
    "\n",
    "for corr_coeff in tqdm(corr_coeffs):\n",
    "    # transform it to covariance matrix\n",
    "    R = np.array([[1.0, corr_coeff], [corr_coeff, 1.0]])\n",
    "    c = np.array([1.0, 3.0])\n",
    "    D = np.diag(c)\n",
    "    cov_matr = np.dot(np.dot(D,R),D)\n",
    "    \n",
    "    #generate data\n",
    "    X,y,_,_ = generate_data(cov_matrix=cov_matr)\n",
    "    \n",
    "    theta_values_curr_corr_coef = []\n",
    "    for i in range(B):\n",
    "        lr = linear_regression()\n",
    "        \n",
    "        # Реализовать bootstrap-сэмплирование и оценку параметров модели для B bootstrap-выборок\n",
    "        \n",
    "        theta_values_curr_corr_coef.append(np.copy(lr.theta))\n",
    "    theta_values_curr_corr_coef = np.concatenate([t.T for t in theta_values_curr_corr_coef], axis=0)\n",
    "    theta_values_per_corr_coef.append(theta_values_curr_corr_coef)"
   ]
  },
  {
   "cell_type": "code",
   "execution_count": null,
   "metadata": {},
   "outputs": [],
   "source": []
  },
  {
   "cell_type": "code",
   "execution_count": null,
   "metadata": {},
   "outputs": [],
   "source": [
    "f = plt.figure(figsize=(6,6), dpi=300)\n",
    "for i in range(3):\n",
    "    _ = plt.subplot(2,2,i+1)\n",
    "    _ = plt.scatter(corr_coeffs,\n",
    "                    [np.std(t[:,i]) for t in theta_values_per_corr_coef],\n",
    "                    s=1)\n",
    "    _ = plt.ylabel('$std(\\\\theta_%d)$' % i)\n",
    "    _ = plt.xlabel('corr_coef')\n",
    "    _ = plt.title('$std(\\\\theta_%d)$' % i)\n",
    "plt.tight_layout()"
   ]
  },
  {
   "cell_type": "markdown",
   "metadata": {},
   "source": [
    "## Выводы относительно поведения линейных моделей на этой синтетической задаче?"
   ]
  },
  {
   "cell_type": "code",
   "execution_count": null,
   "metadata": {},
   "outputs": [],
   "source": []
  }
 ],
 "metadata": {
  "kernelspec": {
   "display_name": "Python 3",
   "language": "python",
   "name": "python3"
  },
  "language_info": {
   "codemirror_mode": {
    "name": "ipython",
    "version": 3
   },
   "file_extension": ".py",
   "mimetype": "text/x-python",
   "name": "python",
   "nbconvert_exporter": "python",
   "pygments_lexer": "ipython3",
   "version": "3.5.2"
  }
 },
 "nbformat": 4,
 "nbformat_minor": 2
}
