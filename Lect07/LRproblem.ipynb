{
 "cells": [
  {
   "cell_type": "markdown",
   "metadata": {},
   "source": [
    "# Оценка качества моделей регрессии"
   ]
  },
  {
   "cell_type": "code",
   "execution_count": 1,
   "metadata": {},
   "outputs": [],
   "source": [
    "import warnings\n",
    "warnings.filterwarnings('ignore')"
   ]
  },
  {
   "cell_type": "code",
   "execution_count": 2,
   "metadata": {},
   "outputs": [],
   "source": [
    "import matplotlib.pyplot as plt\n",
    "import numpy as np\n",
    "import pandas as pd\n",
    "from datetime import date"
   ]
  },
  {
   "cell_type": "code",
   "execution_count": 3,
   "metadata": {},
   "outputs": [],
   "source": [
    "import datetime"
   ]
  },
  {
   "cell_type": "code",
   "execution_count": 4,
   "metadata": {},
   "outputs": [],
   "source": [
    "from sklearn.linear_model import Ridge"
   ]
  },
  {
   "cell_type": "code",
   "execution_count": 5,
   "metadata": {},
   "outputs": [],
   "source": [
    "from tqdm import tqdm_notebook"
   ]
  },
  {
   "cell_type": "code",
   "execution_count": 6,
   "metadata": {},
   "outputs": [],
   "source": [
    "%matplotlib inline"
   ]
  },
  {
   "cell_type": "code",
   "execution_count": 7,
   "metadata": {},
   "outputs": [],
   "source": [
    "plt.rcParams['figure.figsize'] = (6,4)\n",
    "plt.rcParams['figure.dpi'] = 300"
   ]
  },
  {
   "cell_type": "code",
   "execution_count": 8,
   "metadata": {},
   "outputs": [],
   "source": [
    "df = pd.read_table('./data.tsv')\n",
    "df.date = pd.to_datetime(df.date, dayfirst=True)\n",
    "df.weight[:] = [float(a.replace(',', '.')) for a in df.weight]"
   ]
  },
  {
   "cell_type": "code",
   "execution_count": 9,
   "metadata": {},
   "outputs": [
    {
     "data": {
      "text/html": [
       "<div>\n",
       "<style scoped>\n",
       "    .dataframe tbody tr th:only-of-type {\n",
       "        vertical-align: middle;\n",
       "    }\n",
       "\n",
       "    .dataframe tbody tr th {\n",
       "        vertical-align: top;\n",
       "    }\n",
       "\n",
       "    .dataframe thead th {\n",
       "        text-align: right;\n",
       "    }\n",
       "</style>\n",
       "<table border=\"1\" class=\"dataframe\">\n",
       "  <thead>\n",
       "    <tr style=\"text-align: right;\">\n",
       "      <th></th>\n",
       "      <th>date</th>\n",
       "      <th>weight</th>\n",
       "    </tr>\n",
       "  </thead>\n",
       "  <tbody>\n",
       "    <tr>\n",
       "      <th>0</th>\n",
       "      <td>2019-01-02</td>\n",
       "      <td>79.4</td>\n",
       "    </tr>\n",
       "    <tr>\n",
       "      <th>1</th>\n",
       "      <td>2019-01-04</td>\n",
       "      <td>79.8</td>\n",
       "    </tr>\n",
       "    <tr>\n",
       "      <th>2</th>\n",
       "      <td>2019-01-13</td>\n",
       "      <td>79.5</td>\n",
       "    </tr>\n",
       "    <tr>\n",
       "      <th>3</th>\n",
       "      <td>2019-01-17</td>\n",
       "      <td>79.8</td>\n",
       "    </tr>\n",
       "    <tr>\n",
       "      <th>4</th>\n",
       "      <td>2019-01-19</td>\n",
       "      <td>79.3</td>\n",
       "    </tr>\n",
       "  </tbody>\n",
       "</table>\n",
       "</div>"
      ],
      "text/plain": [
       "        date  weight\n",
       "0 2019-01-02    79.4\n",
       "1 2019-01-04    79.8\n",
       "2 2019-01-13    79.5\n",
       "3 2019-01-17    79.8\n",
       "4 2019-01-19    79.3"
      ]
     },
     "execution_count": 9,
     "metadata": {},
     "output_type": "execute_result"
    }
   ],
   "source": [
    "df.head()"
   ]
  },
  {
   "cell_type": "code",
   "execution_count": 11,
   "metadata": {},
   "outputs": [],
   "source": [
    "df['datePOSIX'] = [d.timestamp() for d in df.date]\n",
    "min_date = df['datePOSIX'].min()\n",
    "df['datePOSIX'] = df['datePOSIX']-min_date"
   ]
  },
  {
   "cell_type": "code",
   "execution_count": 12,
   "metadata": {},
   "outputs": [
    {
     "data": {
      "text/html": [
       "<div>\n",
       "<style scoped>\n",
       "    .dataframe tbody tr th:only-of-type {\n",
       "        vertical-align: middle;\n",
       "    }\n",
       "\n",
       "    .dataframe tbody tr th {\n",
       "        vertical-align: top;\n",
       "    }\n",
       "\n",
       "    .dataframe thead th {\n",
       "        text-align: right;\n",
       "    }\n",
       "</style>\n",
       "<table border=\"1\" class=\"dataframe\">\n",
       "  <thead>\n",
       "    <tr style=\"text-align: right;\">\n",
       "      <th></th>\n",
       "      <th>date</th>\n",
       "      <th>weight</th>\n",
       "      <th>datePOSIX</th>\n",
       "    </tr>\n",
       "  </thead>\n",
       "  <tbody>\n",
       "    <tr>\n",
       "      <th>0</th>\n",
       "      <td>2019-01-02</td>\n",
       "      <td>79.4</td>\n",
       "      <td>0.0</td>\n",
       "    </tr>\n",
       "    <tr>\n",
       "      <th>1</th>\n",
       "      <td>2019-01-04</td>\n",
       "      <td>79.8</td>\n",
       "      <td>172800.0</td>\n",
       "    </tr>\n",
       "    <tr>\n",
       "      <th>2</th>\n",
       "      <td>2019-01-13</td>\n",
       "      <td>79.5</td>\n",
       "      <td>950400.0</td>\n",
       "    </tr>\n",
       "    <tr>\n",
       "      <th>3</th>\n",
       "      <td>2019-01-17</td>\n",
       "      <td>79.8</td>\n",
       "      <td>1296000.0</td>\n",
       "    </tr>\n",
       "    <tr>\n",
       "      <th>4</th>\n",
       "      <td>2019-01-19</td>\n",
       "      <td>79.3</td>\n",
       "      <td>1468800.0</td>\n",
       "    </tr>\n",
       "  </tbody>\n",
       "</table>\n",
       "</div>"
      ],
      "text/plain": [
       "        date  weight  datePOSIX\n",
       "0 2019-01-02    79.4        0.0\n",
       "1 2019-01-04    79.8   172800.0\n",
       "2 2019-01-13    79.5   950400.0\n",
       "3 2019-01-17    79.8  1296000.0\n",
       "4 2019-01-19    79.3  1468800.0"
      ]
     },
     "execution_count": 12,
     "metadata": {},
     "output_type": "execute_result"
    }
   ],
   "source": [
    "df.head()"
   ]
  },
  {
   "cell_type": "code",
   "execution_count": 14,
   "metadata": {},
   "outputs": [
    {
     "data": {
      "text/plain": [
       "(175, 3)"
      ]
     },
     "execution_count": 14,
     "metadata": {},
     "output_type": "execute_result"
    }
   ],
   "source": [
    "df.shape"
   ]
  },
  {
   "cell_type": "code",
   "execution_count": null,
   "metadata": {},
   "outputs": [],
   "source": []
  },
  {
   "cell_type": "code",
   "execution_count": 13,
   "metadata": {},
   "outputs": [
    {
     "data": {
      "image/png": "[encoded data removed]",
      "text/plain": [
       "<Figure size 1800x1200 with 1 Axes>"
      ]
     },
     "metadata": {
      "needs_background": "light"
     },
     "output_type": "display_data"
    }
   ],
   "source": [
    "_ = plt.scatter(df.date, df.weight)\n",
    "_ = plt.title('source data')\n",
    "_ = plt.xlabel('date')\n",
    "_ = plt.ylabel('weight, kg')\n",
    "_ = plt.xticks(rotation=90)"
   ]
  },
  {
   "cell_type": "code",
   "execution_count": null,
   "metadata": {},
   "outputs": [],
   "source": []
  },
  {
   "cell_type": "code",
   "execution_count": null,
   "metadata": {},
   "outputs": [],
   "source": []
  },
  {
   "cell_type": "markdown",
   "metadata": {},
   "source": [
    "##  Решение линейной регрессии в матричном виде\n",
    "\n",
    "Ранее было продемонстрировано, что решение задачи линейной регрессии методом максимального правдоподобия эквивалентно решению оптимизационной задачи для функции среднеквадратического отклонения (записано для $n$-мерного случая, $N$ - число экземпляров в обучающей выборке):\n",
    "\n",
    "$$\n",
    "x_i = (x_{i}^{(0)}, x_{i}^{(1)}, \\dots, x_{i}^{(n)})\n",
    "$$\n",
    "\n",
    "$$\n",
    "\\theta = (\\theta^{(0)}, \\theta^{(1)}, \\dots, \\theta^{(n)})\n",
    "$$\n",
    "\n",
    "$$\n",
    "\\theta^* = \\underset{\\Theta}{\\mathrm{argmin}} \\sum_{i=1}^{N}{\\left( y_i-\\theta\\cdot x_i \\right)^2}\n",
    "$$\n",
    "\n",
    "Для записи в матричном виде введем т.н. матрицу объекты-признаки:\n",
    "\n",
    "$$\n",
    "X = \\begin{bmatrix}\n",
    "x_{0}^{(0)} & x_{0}^{(1)} & \\dots & x_{0}^{(n)} \\\\\n",
    "x_{1}^{(0)} & x_{1}^{(1)} & \\dots & x_{1}^{(n)} \\\\\n",
    "\\dots \\\\\n",
    "x_{N}^{(0)} & x_{N}^{(1)} & \\dots & x_{N}^{(n)}\n",
    "\\end{bmatrix}\n",
    "$$\n",
    "\n",
    "При этом не забываем, что нулевая компонента векторов описания всех объектов - единица.\n",
    "\n",
    "Кроме этого введем вектор-столбец целевой переменной:\n",
    "$$\n",
    "Y = \\begin{bmatrix}\n",
    "y_{0}\\\\\n",
    "y_{1}\\\\\n",
    "\\dots \\\\\n",
    "y_{N}\n",
    "\\end{bmatrix}\n",
    "$$\n",
    "\n",
    "\n",
    "При этом важно, что $\\theta$ - также вектор-столбец\n",
    "\n",
    "Тогда функция ошибки может быть записана следующим образом:\n",
    "\n",
    "$$\n",
    "\\mathscr{L}(\\theta, X, Y) = \\left(Y-X\\cdot\\theta\\right)^T\\cdot(Y-X\\cdot\\theta) = \\\\\n",
    "{Y^T}{Y}-2\\theta^T{X^T}{Y}+\\theta^T{X^T}{X}{\\theta}\n",
    "$$\n",
    "\n",
    "$$\n",
    "\\frac{\\partial{\\mathscr{L}(\\theta, X, Y)}}{\\partial{\\theta}} = -2{X^T}{Y} + 2{X^T}X\\theta\n",
    "$$\n",
    "\n",
    "Поскольку функция ошибка квадратична по $\\theta$, можно утверждать, что у нее есть экстремум и он глобальный. Положение этого экстремума можно найти обычным образом:\n",
    "\n",
    "$$\n",
    "\\frac{\\partial{\\mathscr{L}(\\theta, X, Y)}}{\\partial{\\theta}} = 0\n",
    "$$\n",
    "\n",
    "Отсюда (можно воспользоваться [Matrix cookbook](https://www.math.uwaterloo.ca/~hwolkowi/matrixcookbook.pdf)):\n",
    "\n",
    "$$\n",
    "2{X^T}X\\theta^* = 2{X^T}{Y}\n",
    "$$\n",
    "\n",
    "$$\n",
    "\\theta^* = (X^T X)^{-1} X^T Y \\tag{1} \\label{eq:special}\n",
    "$$\n",
    "\n",
    "Осталось проверить, не максимум ли это. Для этого проверяем, что матрица вторых производных (по $\\theta$) положительно определена:\n",
    "\n",
    "$$\n",
    "\\frac{\\partial^2 {\\mathscr{L}(\\theta, X, Y)}}{\\partial\\theta^2} = 2 X^T X\n",
    "$$"
   ]
  },
  {
   "cell_type": "code",
   "execution_count": 15,
   "metadata": {},
   "outputs": [],
   "source": [
    "x_lin_test = np.linspace(df.datePOSIX.min(), df.datePOSIX.max(), 100)"
   ]
  },
  {
   "cell_type": "code",
   "execution_count": 16,
   "metadata": {},
   "outputs": [],
   "source": [
    "x_lin_test_datetimes = [pd.Timestamp(dt+min_date, unit='s') for dt in x_lin_test]"
   ]
  },
  {
   "cell_type": "code",
   "execution_count": null,
   "metadata": {},
   "outputs": [],
   "source": []
  },
  {
   "cell_type": "code",
   "execution_count": null,
   "metadata": {},
   "outputs": [],
   "source": []
  },
  {
   "cell_type": "markdown",
   "metadata": {},
   "source": [
    "## Решаем вручную (см. матричный вывод выше)\n",
    "### создаем матрицу объекты-признаки"
   ]
  },
  {
   "cell_type": "code",
   "execution_count": 17,
   "metadata": {},
   "outputs": [
    {
     "data": {
      "text/plain": [
       "(175, 1)"
      ]
     },
     "execution_count": 17,
     "metadata": {},
     "output_type": "execute_result"
    }
   ],
   "source": [
    "X = np.asarray(df.datePOSIX).reshape((-1, 1))\n",
    "X.shape"
   ]
  },
  {
   "cell_type": "code",
   "execution_count": 18,
   "metadata": {},
   "outputs": [],
   "source": [
    "X_0 = np.ones_like(X)"
   ]
  },
  {
   "cell_type": "code",
   "execution_count": 19,
   "metadata": {},
   "outputs": [
    {
     "data": {
      "text/plain": [
       "(175, 2)"
      ]
     },
     "execution_count": 19,
     "metadata": {},
     "output_type": "execute_result"
    }
   ],
   "source": [
    "X = np.concatenate([X_0, X], axis=1)\n",
    "X.shape"
   ]
  },
  {
   "cell_type": "markdown",
   "metadata": {},
   "source": [
    "### записываем матрицу (вектор-столбец) целевой переменной"
   ]
  },
  {
   "cell_type": "code",
   "execution_count": 20,
   "metadata": {},
   "outputs": [
    {
     "data": {
      "text/plain": [
       "(175, 1)"
      ]
     },
     "execution_count": 20,
     "metadata": {},
     "output_type": "execute_result"
    }
   ],
   "source": [
    "Y = np.asarray(df.weight)[:,np.newaxis]\n",
    "Y.shape"
   ]
  },
  {
   "cell_type": "markdown",
   "metadata": {},
   "source": [
    "### вычисляем $\\theta^*$ по формуле (1)"
   ]
  },
  {
   "cell_type": "code",
   "execution_count": 21,
   "metadata": {},
   "outputs": [],
   "source": [
    "m1 = np.dot(X.T, X)"
   ]
  },
  {
   "cell_type": "code",
   "execution_count": 22,
   "metadata": {},
   "outputs": [],
   "source": [
    "m2 = np.linalg.inv(m1)"
   ]
  },
  {
   "cell_type": "code",
   "execution_count": 23,
   "metadata": {},
   "outputs": [],
   "source": [
    "m3 = np.dot(m2, X.T)"
   ]
  },
  {
   "cell_type": "code",
   "execution_count": 24,
   "metadata": {},
   "outputs": [],
   "source": [
    "theta_star = np.dot(m3, Y)"
   ]
  },
  {
   "cell_type": "code",
   "execution_count": 25,
   "metadata": {},
   "outputs": [
    {
     "data": {
      "text/plain": [
       "array([[ 8.00277992e+01],\n",
       "       [-1.10497872e-07]])"
      ]
     },
     "execution_count": 25,
     "metadata": {},
     "output_type": "execute_result"
    }
   ],
   "source": [
    "theta_star"
   ]
  },
  {
   "cell_type": "markdown",
   "metadata": {},
   "source": [
    "### аппроксимируем значения $y$ для всех значений `x_lin_test`\n",
    "Для этого приводим `x_lin_test` к такому же формату, что и `X`: добавляем нулевую колонку, в которой записаны единицы"
   ]
  },
  {
   "cell_type": "code",
   "execution_count": 26,
   "metadata": {},
   "outputs": [
    {
     "data": {
      "text/plain": [
       "(100, 2)"
      ]
     },
     "execution_count": 26,
     "metadata": {},
     "output_type": "execute_result"
    }
   ],
   "source": [
    "X_test = np.asarray(x_lin_test).reshape((-1, 1))\n",
    "X_test_0 = np.ones_like(X_test)\n",
    "X_test = np.concatenate([X_test_0, X_test], axis=1)\n",
    "X_test.shape"
   ]
  },
  {
   "cell_type": "code",
   "execution_count": 27,
   "metadata": {},
   "outputs": [],
   "source": [
    "y_test_approximated = np.dot(X_test, theta_star)"
   ]
  },
  {
   "cell_type": "code",
   "execution_count": null,
   "metadata": {},
   "outputs": [],
   "source": []
  },
  {
   "cell_type": "code",
   "execution_count": null,
   "metadata": {},
   "outputs": [],
   "source": []
  },
  {
   "cell_type": "code",
   "execution_count": 28,
   "metadata": {},
   "outputs": [
    {
     "data": {
      "image/png": "[encoded data removed]",
      "text/plain": [
       "<Figure size 1800x1200 with 1 Axes>"
      ]
     },
     "metadata": {
      "needs_background": "light"
     },
     "output_type": "display_data"
    }
   ],
   "source": [
    "_ = plt.scatter(df.date, df.weight, s = 3, label='data')\n",
    "_ = plt.plot(x_lin_test_datetimes, y_test_approximated, color='orange', label='approximation')\n",
    "_ = plt.xticks(rotation=90)\n",
    "_ = plt.legend()\n",
    "_ = plt.title('LR results')\n",
    "_ = plt.xlabel('date')\n",
    "_ = plt.ylabel('weight, kg')"
   ]
  },
  {
   "cell_type": "markdown",
   "metadata": {},
   "source": [
    "### Прогноз на 31.12.2019:"
   ]
  },
  {
   "cell_type": "code",
   "execution_count": 29,
   "metadata": {},
   "outputs": [],
   "source": [
    "x_test = datetime.datetime(2019,12,31,12,0,0).timestamp() - min_date"
   ]
  },
  {
   "cell_type": "code",
   "execution_count": 30,
   "metadata": {},
   "outputs": [],
   "source": [
    "y_predicted = np.dot(np.array([[1., x_test]]), theta_star)"
   ]
  },
  {
   "cell_type": "code",
   "execution_count": 31,
   "metadata": {},
   "outputs": [
    {
     "name": "stdout",
     "output_type": "stream",
     "text": [
      "[[76.55865225]]\n"
     ]
    }
   ],
   "source": [
    "print(y_predicted)"
   ]
  },
  {
   "cell_type": "markdown",
   "metadata": {},
   "source": [
    "76.8"
   ]
  },
  {
   "cell_type": "markdown",
   "metadata": {},
   "source": [
    "## оформим в виде класса (почти как в sklearn)"
   ]
  },
  {
   "cell_type": "code",
   "execution_count": 32,
   "metadata": {},
   "outputs": [],
   "source": [
    "class linear_regression:\n",
    "    def __init__(self):\n",
    "#         self.theta = np.array([[0.0, 0.0]])\n",
    "        pass\n",
    "    \n",
    "    def fit(self, X, y):\n",
    "        X_train = np.asarray(X).reshape((-1, 1))\n",
    "        X_train_0 = np.ones_like(X_train)\n",
    "        X_train = np.concatenate([X_train_0, X_train], axis=1)\n",
    "        y_train = np.squeeze(np.asarray(y)).reshape((-1,1))\n",
    "        \n",
    "        m1 = np.dot(X_train.T, X_train)\n",
    "        m2 = np.linalg.inv(m1)\n",
    "        m3 = np.dot(m2, X_train.T)\n",
    "        theta_star = np.dot(m3, y_train)\n",
    "        self.theta = theta_star\n",
    "    \n",
    "    def predict(self, X):\n",
    "        X_test = np.asarray(X).reshape((-1, 1))\n",
    "        X_test_0 = np.ones_like(X_test)\n",
    "        X_test = np.concatenate([X_test_0, X_test], axis=1)\n",
    "        y_pred = np.dot(X_test, self.theta)\n",
    "        return y_pred"
   ]
  },
  {
   "cell_type": "code",
   "execution_count": 33,
   "metadata": {},
   "outputs": [],
   "source": [
    "model = linear_regression()"
   ]
  },
  {
   "cell_type": "code",
   "execution_count": 34,
   "metadata": {},
   "outputs": [],
   "source": [
    "model.fit(df.datePOSIX, df.weight)"
   ]
  },
  {
   "cell_type": "code",
   "execution_count": 35,
   "metadata": {},
   "outputs": [
    {
     "data": {
      "text/plain": [
       "array([[ 8.00277992e+01],\n",
       "       [-1.10497872e-07]])"
      ]
     },
     "execution_count": 35,
     "metadata": {},
     "output_type": "execute_result"
    }
   ],
   "source": [
    "model.theta"
   ]
  },
  {
   "cell_type": "markdown",
   "metadata": {},
   "source": [
    "### оценим качество по мере RMSE"
   ]
  },
  {
   "cell_type": "markdown",
   "metadata": {},
   "source": [
    "### ВНИМАНИЕ!!! Так делать неправильно! См. ниже объяснение, `что именно` тут неверно!"
   ]
  },
  {
   "cell_type": "code",
   "execution_count": 36,
   "metadata": {},
   "outputs": [],
   "source": [
    "y_pred = model.predict(df.datePOSIX)"
   ]
  },
  {
   "cell_type": "code",
   "execution_count": 37,
   "metadata": {},
   "outputs": [
    {
     "data": {
      "text/plain": [
       "(175, 1)"
      ]
     },
     "execution_count": 37,
     "metadata": {},
     "output_type": "execute_result"
    }
   ],
   "source": [
    "y_pred.shape"
   ]
  },
  {
   "cell_type": "code",
   "execution_count": 38,
   "metadata": {},
   "outputs": [
    {
     "data": {
      "text/plain": [
       "(175,)"
      ]
     },
     "execution_count": 38,
     "metadata": {},
     "output_type": "execute_result"
    }
   ],
   "source": [
    "df.weight.shape"
   ]
  },
  {
   "cell_type": "code",
   "execution_count": 39,
   "metadata": {},
   "outputs": [],
   "source": [
    "RMSE_value = np.sqrt(np.sum(np.square(np.squeeze(y_pred) - np.asarray(df.weight)))/y_pred.shape[0])"
   ]
  },
  {
   "cell_type": "code",
   "execution_count": 40,
   "metadata": {},
   "outputs": [
    {
     "data": {
      "text/plain": [
       "0.6975976673459893"
      ]
     },
     "execution_count": 40,
     "metadata": {},
     "output_type": "execute_result"
    }
   ],
   "source": [
    "RMSE_value"
   ]
  },
  {
   "cell_type": "code",
   "execution_count": 41,
   "metadata": {},
   "outputs": [],
   "source": [
    "## офомим на будущее это вычисление в виде функции\n",
    "def RMSE(y_true, y_pred):\n",
    "    return np.sqrt(np.sum(np.square(np.squeeze(np.asarray(y_true)) - np.squeeze(np.asarray(y_pred))))/y_pred.shape[0])"
   ]
  },
  {
   "cell_type": "code",
   "execution_count": 42,
   "metadata": {},
   "outputs": [
    {
     "data": {
      "text/plain": [
       "0.6975976673459893"
      ]
     },
     "execution_count": 42,
     "metadata": {},
     "output_type": "execute_result"
    }
   ],
   "source": [
    "RMSE(df.weight, y_pred)"
   ]
  },
  {
   "cell_type": "markdown",
   "metadata": {},
   "source": [
    "0.7 кг. среднеквадратичной ошибки - неплохо. Может быть, можно лучше?\n",
    "\n",
    "## усложним модель\n",
    "Введем полиномиальные признаки, будем считать их отдельными независимыми признаками, характеризующими примеры выборки\n",
    "\n",
    "Размерность матрицы объекты-признаки `X` изменится. Изменится и размерность вектора $\\theta$"
   ]
  },
  {
   "cell_type": "code",
   "execution_count": null,
   "metadata": {},
   "outputs": [],
   "source": [
    "from sklearn.preprocessing import PolynomialFeatures"
   ]
  },
  {
   "cell_type": "code",
   "execution_count": null,
   "metadata": {},
   "outputs": [],
   "source": [
    "transformer = PolynomialFeatures(degree=5)"
   ]
  },
  {
   "cell_type": "code",
   "execution_count": null,
   "metadata": {},
   "outputs": [],
   "source": [
    "X_polynomial = transformer.fit_transform(np.asarray(df.datePOSIX).reshape((-1,1)))"
   ]
  },
  {
   "cell_type": "code",
   "execution_count": null,
   "metadata": {
    "scrolled": true
   },
   "outputs": [],
   "source": [
    "X_polynomial.shape"
   ]
  },
  {
   "cell_type": "markdown",
   "metadata": {},
   "source": [
    "### проверка на какие-нибудь очевидные ошибки\n",
    "степенные признаки $x^n$ должны выглядеть как степени $x$ на графиках $f(x) = x^n$"
   ]
  },
  {
   "cell_type": "code",
   "execution_count": null,
   "metadata": {},
   "outputs": [],
   "source": [
    "f = plt.figure(figsize=(6,4), dpi=300)\n",
    "for p in range(6):\n",
    "    plt.subplot(2,3,p+1)\n",
    "    plt.scatter(np.asarray(df.datePOSIX).reshape((-1,1)), X_polynomial[:,p], s=1)\n",
    "plt.tight_layout()"
   ]
  },
  {
   "cell_type": "markdown",
   "metadata": {},
   "source": [
    "### оформим полиномиальную регрессию в виде класса, как и ранее - линейную"
   ]
  },
  {
   "cell_type": "code",
   "execution_count": null,
   "metadata": {},
   "outputs": [],
   "source": [
    "class polynomial_regression:\n",
    "    def __init__(self, degree = 2):\n",
    "        self.degree = degree\n",
    "        self.theta = np.zeros((1,degree+1))\n",
    "    \n",
    "    def fit(self, X, y):\n",
    "        X_train = np.asarray(X).reshape((-1, 1))\n",
    "        transformer = PolynomialFeatures(degree=self.degree)\n",
    "        X_polynomial = transformer.fit_transform(X_train)\n",
    "        \n",
    "        y_train = np.squeeze(np.asarray(y)).reshape((-1,1))\n",
    "        \n",
    "        m1 = np.dot(X_polynomial.T, X_polynomial)\n",
    "        m2 = np.linalg.inv(m1)\n",
    "        m3 = np.dot(m2, X_polynomial.T)\n",
    "        theta_star = np.dot(m3, y_train)\n",
    "        self.theta = theta_star\n",
    "    \n",
    "    def predict(self, X):\n",
    "        X_test = np.asarray(X).reshape((-1, 1))\n",
    "        transformer = PolynomialFeatures(degree=self.degree)\n",
    "        X_polynomial = transformer.fit_transform(X_test)\n",
    "        y_pred = np.dot(X_polynomial, self.theta)\n",
    "        return y_pred"
   ]
  },
  {
   "cell_type": "code",
   "execution_count": null,
   "metadata": {},
   "outputs": [],
   "source": [
    "model_polynomial = polynomial_regression(degree=6)"
   ]
  },
  {
   "cell_type": "code",
   "execution_count": null,
   "metadata": {},
   "outputs": [],
   "source": [
    "model_polynomial.fit(df.datePOSIX, df.weight)"
   ]
  },
  {
   "cell_type": "code",
   "execution_count": null,
   "metadata": {},
   "outputs": [],
   "source": [
    "model_polynomial.theta"
   ]
  },
  {
   "cell_type": "code",
   "execution_count": null,
   "metadata": {},
   "outputs": [],
   "source": [
    "y_test_approximated = model_polynomial.predict(x_lin_test)"
   ]
  },
  {
   "cell_type": "code",
   "execution_count": null,
   "metadata": {},
   "outputs": [],
   "source": [
    "_ = plt.scatter(df.date, df.weight, s = 3, label='data')\n",
    "_ = plt.plot(x_lin_test_datetimes, y_test_approximated, color='orange', label='approximation')\n",
    "_ = plt.xticks(rotation=90)\n",
    "_ = plt.legend()\n",
    "_ = plt.title('LR results')\n",
    "_ = plt.xlabel('date')\n",
    "_ = plt.ylabel('weight, kg')"
   ]
  },
  {
   "cell_type": "code",
   "execution_count": null,
   "metadata": {},
   "outputs": [],
   "source": [
    "y_pred = model_polynomial.predict(df.datePOSIX)"
   ]
  },
  {
   "cell_type": "code",
   "execution_count": null,
   "metadata": {},
   "outputs": [],
   "source": [
    "RMSE(df.weight, y_pred)"
   ]
  },
  {
   "cell_type": "markdown",
   "metadata": {},
   "source": [
    "0.6 кг. среднеквадратичной ошибки - уже получше, чем в линейной модели. Может быть, можно еще лучше?\n",
    "\n",
    "### Что если еще повысить степень полинома?\n",
    "Посмотрим на среднеквадратичную ошибку при разных степенях полинома. Напомним, RMSE все еще оценивается неверно, но очень примерно дает представление об ошибке модели."
   ]
  },
  {
   "cell_type": "code",
   "execution_count": null,
   "metadata": {},
   "outputs": [],
   "source": [
    "rmse_values = []\n",
    "degrees = [d for d in range(10)]\n",
    "for p in tqdm_notebook(degrees):\n",
    "    model_polynomial = polynomial_regression(degree=p)\n",
    "    model_polynomial.fit(df.datePOSIX, df.weight)\n",
    "    y_pred = model_polynomial.predict(df.datePOSIX)\n",
    "    rmse_values.append(RMSE(df.weight, y_pred))"
   ]
  },
  {
   "cell_type": "code",
   "execution_count": null,
   "metadata": {},
   "outputs": [],
   "source": [
    "plt.plot(degrees, rmse_values)\n",
    "plt.xlabel('polynome degree')\n",
    "plt.ylabel('RMSE, kg')"
   ]
  },
  {
   "cell_type": "markdown",
   "metadata": {},
   "source": [
    "С ростом степени полинома RMSE снижается.\n",
    "\n",
    "### Так может быть и до нуля доберемся?"
   ]
  },
  {
   "cell_type": "code",
   "execution_count": null,
   "metadata": {
    "scrolled": false
   },
   "outputs": [],
   "source": [
    "degrees = [d for d in range(25)]\n",
    "rmse_values = []\n",
    "for p in degrees:\n",
    "    model_polynomial = polynomial_regression(degree=p)\n",
    "    model_polynomial.fit(df.datePOSIX, df.weight)\n",
    "    y_pred = model_polynomial.predict(df.datePOSIX)\n",
    "    rmse_values.append(RMSE(df.weight, y_pred))\n",
    "    print(p, '\\t:\\t', RMSE(df.weight, y_pred))"
   ]
  },
  {
   "cell_type": "code",
   "execution_count": null,
   "metadata": {},
   "outputs": [],
   "source": [
    "plt.plot(degrees, rmse_values)\n",
    "plt.yscale('log')\n",
    "plt.ylabel('RMSE')\n",
    "_ = plt.xlabel('polynome degree')"
   ]
  },
  {
   "cell_type": "markdown",
   "metadata": {},
   "source": [
    "## упс..."
   ]
  },
  {
   "cell_type": "code",
   "execution_count": null,
   "metadata": {},
   "outputs": [],
   "source": []
  },
  {
   "cell_type": "code",
   "execution_count": null,
   "metadata": {},
   "outputs": [],
   "source": []
  },
  {
   "cell_type": "markdown",
   "metadata": {},
   "source": [
    "### OK, но вроде степень 9 дает лучшее качество..."
   ]
  },
  {
   "cell_type": "code",
   "execution_count": null,
   "metadata": {},
   "outputs": [],
   "source": [
    "model_polynomial = polynomial_regression(degree=9)\n",
    "model_polynomial.fit(df.datePOSIX, df.weight)\n",
    "x_to_predict = datet`ime.datetime(2019,12,31,12,0,0).timestamp() - min_date\n",
    "y_predicted = model_polynomial.predict(x_to_predict)\n",
    "print('вес на 31.12.2019: %.1f кг.' % y_predicted)"
   ]
  },
  {
   "cell_type": "markdown",
   "metadata": {},
   "source": [
    "## упс... снова."
   ]
  },
  {
   "cell_type": "code",
   "execution_count": null,
   "metadata": {},
   "outputs": [],
   "source": []
  },
  {
   "cell_type": "markdown",
   "metadata": {},
   "source": [
    "## Что будет, если обучающих данных мало?"
   ]
  },
  {
   "cell_type": "code",
   "execution_count": null,
   "metadata": {},
   "outputs": [],
   "source": [
    "rand_perm_indices = np.random.permutation(df.datePOSIX.shape[0])\n",
    "indices_subset = rand_perm_indices[:5]\n",
    "rest_indices = rand_perm_indices[5:]"
   ]
  },
  {
   "cell_type": "code",
   "execution_count": null,
   "metadata": {},
   "outputs": [],
   "source": [
    "X_subset = np.asarray(df.datePOSIX)[indices_subset]"
   ]
  },
  {
   "cell_type": "code",
   "execution_count": null,
   "metadata": {},
   "outputs": [],
   "source": [
    "y_subset = np.asarray(df.weight)[indices_subset]"
   ]
  },
  {
   "cell_type": "code",
   "execution_count": null,
   "metadata": {},
   "outputs": [],
   "source": [
    "model_polynomial = polynomial_regression(degree=9)\n",
    "model_polynomial.fit(X_subset, y_subset)"
   ]
  },
  {
   "cell_type": "code",
   "execution_count": null,
   "metadata": {},
   "outputs": [],
   "source": [
    "y_approximated_linspace = model_polynomial.predict(x_lin_test)"
   ]
  },
  {
   "cell_type": "code",
   "execution_count": null,
   "metadata": {},
   "outputs": [],
   "source": [
    "_ = plt.scatter(X_subset, y_subset, s = 5, label='data')\n",
    "_ = plt.plot(x_lin, y_approximated_linspace, color='orange', label='approximation', zorder = 0)\n",
    "_ = plt.legend()\n",
    "_ = plt.title('LR results')\n",
    "_ = plt.xlabel('date, POSIX format')\n",
    "_ = plt.ylabel('weight, kg')"
   ]
  },
  {
   "cell_type": "code",
   "execution_count": null,
   "metadata": {},
   "outputs": [],
   "source": []
  },
  {
   "cell_type": "markdown",
   "metadata": {},
   "source": [
    "## Посчитаем аппроксимацию целевой переменной на \"новых\" примерах"
   ]
  },
  {
   "cell_type": "code",
   "execution_count": null,
   "metadata": {},
   "outputs": [],
   "source": [
    "X_rest = np.asarray(df.datePOSIX)[rest_indices]\n",
    "y_rest = np.asarray(df.weight)[rest_indices]"
   ]
  },
  {
   "cell_type": "code",
   "execution_count": null,
   "metadata": {},
   "outputs": [],
   "source": [
    "y_rest_pred = model_polynomial.predict(X_rest)"
   ]
  },
  {
   "cell_type": "code",
   "execution_count": null,
   "metadata": {},
   "outputs": [],
   "source": [
    "_ = plt.plot(x_lin_test, y_approximated_linspace, color='orange', label='approximation')\n",
    "_ = plt.scatter(X_rest, y_rest, s = 5, label='test data', color='green')\n",
    "_ = plt.scatter(X_subset, y_subset, s = 10, label='train data', color='magenta')\n",
    "_ = plt.legend()\n",
    "_ = plt.title('LR results')\n",
    "_ = plt.xlabel('date, POSIX format')\n",
    "_ = plt.ylabel('weight, kg')"
   ]
  },
  {
   "cell_type": "code",
   "execution_count": null,
   "metadata": {},
   "outputs": [],
   "source": [
    "RMSE(y_subset, model_polynomial.predict(X_subset))"
   ]
  },
  {
   "cell_type": "code",
   "execution_count": null,
   "metadata": {},
   "outputs": [],
   "source": [
    "RMSE(y_rest, y_rest_pred)"
   ]
  },
  {
   "cell_type": "code",
   "execution_count": null,
   "metadata": {},
   "outputs": [],
   "source": []
  },
  {
   "cell_type": "markdown",
   "metadata": {},
   "source": [
    "## ВЫВОДЫ?"
   ]
  },
  {
   "cell_type": "markdown",
   "metadata": {},
   "source": [
    "- Нельзя оценивать качество модели на той же выборке, на которой она обучалась - это недостоверная оценка\n",
    "- Качество следует оценивать на выборке, которая не была представлена модели на момент обучения - т.н. `тестовой выборке`\n",
    "- Если модель обладает достаточной выразительной способностью, а обучающая выборка невелика, - в подходе оценки по `методу максимального правдоподобия (Maximum Likelihood Estimation)` легко столкнуться с явлением `переобучения (overfitting)`"
   ]
  },
  {
   "cell_type": "markdown",
   "metadata": {},
   "source": [
    "## Переобучение:\n",
    "(Нежелательное) явление, при котором качество модели, оцениваемое на тренировочной выборке, сильно отличается в лучшую сторону от качества на вновь поступающих примерах.\n",
    "\n",
    "Нередко бывает, что переобучение обусловлено неверным соотношением выразительной способности модели и количества обучающих данных: модель выбрана слишком \"сильная\", в процессе обучения способна усвоить структуру данных.\n",
    "\n",
    "## Недообучение\n",
    "Альтернативное (нежелательное) поведение модели.\n",
    "\n",
    "Явление, при котором качество модели, оцениваемое на тренировочной выборке и на вновь поступающих примерах сравнительно невелико и отличается не сильно.\n",
    "\n",
    "Характерной ситуацией, в которой может наблюдаться недообучение, является выбор слишком слабой модели, неспособной описать все особенности данных тренировочной выборки. В этом случае говорят, что выразительная способность модели низка."
   ]
  },
  {
   "cell_type": "raw",
   "metadata": {},
   "source": []
  },
  {
   "cell_type": "markdown",
   "metadata": {},
   "source": [
    "## Обобщающая способность\n",
    "\n",
    "-- свойство модели выдавать правильный ответ или ответ, достаточно близкий к правильному, не только для примеров тренировочной выборки (продемонстрированных во время обучения), но и на любых новых примерах. При этом подразумевается, что новые примеры подчиняются закономерности, которой подчиняются примеры тренировочной выборки.\n",
    "\n",
    "Способность модели к обобщению - важнейшее свойство, без которого эксплуатация модели в большинстве случаев лишена смысла.\n",
    "\n",
    "Проверка обобщающей способности заключается в сопоставлении качества модели на `тренировочной (обучающей) выборке` и на новых примерах - `тестовой выборке`."
   ]
  },
  {
   "cell_type": "code",
   "execution_count": null,
   "metadata": {},
   "outputs": [],
   "source": []
  },
  {
   "cell_type": "markdown",
   "metadata": {},
   "source": [
    "### Так что же было неверно в оценке RMSE?\n",
    "\n",
    "-- Оценка проводилась каждый раз на той же выборке, на которой была оптимизирована модель. Это грубейшая ошибка, приводящая к недостоверной оценке ошибок модели, которые она может допустить на новых данных. "
   ]
  },
  {
   "cell_type": "raw",
   "metadata": {},
   "source": []
  },
  {
   "cell_type": "markdown",
   "metadata": {},
   "source": [
    "# Далее:\n",
    "\n",
    "Оценка качества модели во время обучения и после оптимизации. Бутстрэп (bootstrap), скользящий контроль (cross-validation). Тренировочная, тестовая и валидационные выборки."
   ]
  },
  {
   "cell_type": "code",
   "execution_count": null,
   "metadata": {},
   "outputs": [],
   "source": []
  }
 ],
 "metadata": {
  "kernelspec": {
   "display_name": "Python 3",
   "language": "python",
   "name": "python3"
  },
  "language_info": {
   "codemirror_mode": {
    "name": "ipython",
    "version": 3
   },
   "file_extension": ".py",
   "mimetype": "text/x-python",
   "name": "python",
   "nbconvert_exporter": "python",
   "pygments_lexer": "ipython3",
   "version": "3.8.3"
  }
 },
 "nbformat": 4,
 "nbformat_minor": 2
}
